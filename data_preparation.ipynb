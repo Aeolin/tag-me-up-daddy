{
 "cells": [
  {
   "cell_type": "code",
   "execution_count": 1,
   "metadata": {},
   "outputs": [
    {
     "name": "stdout",
     "output_type": "stream",
     "text": [
      "<s>[INST]<<SYS>>Return the tag of the given Lyrics as JSON<</SYS>>[Gang Only by Destroy Lonely]\\n[Chorus]\\r\\nBrazy, lately\\r\\nI&#x27;ve been goin&#x27; brazy, lately\\r\\nI been countin&#x27; up a whole lotta money, I been livin&#x27; different\\r\\nI been pourin&#x27; up a whole lotta drank, I been sippin&#x27;\\r\\nWith this swag, I been trippin&#x27;\\r\\nI just see a brand new bag and I get it\\r\\nTalkin&#x27; &#x27;bout some cash, tell &#x27;em &quot;Send it to me quickly&quot;\\r\\nI been movin&#x27; fast, I been movin&#x27; quicker\\r\\nYeah, my neck and wrist so cold, they stuck on December\\r\\nI been prolly fucked ya&#x27; ho&#x27; but I can&#x27;t even remember\\r\\nNigga, it&#x27;s gang only, yeah, and you not a member\\r\\n\\r\\n[Verse]\\r\\nThey used to hate on Lonely, but I won&#x27;t even mention it\\r\\nYeah, &#x27;cause I&#x27;m better it&#x27;s evident\\r\\nMy pockets they filled up with presidents\\r\\nHuh, top floor, hotel residence\\r\\nYes, I get money, no settlements\\r\\nI&#x27;d rather keep goin&#x27;, no settlin&#x27;\\r\\nI pour up the lean, my residue\\r\\n&#x27;Cause I need it all to feel it, dude\\r\\nShe get butterflies, nigga, no cocoons\\r\\nYou can&#x27;t ride, nigga, this a coupe\\r\\nI&#x27;m in the back seat, pourin&#x27; juice\\r\\nIf I could do it, you could do it too\\r\\nI get money and it switch my mood\\r\\nI rock all Balenci&#x27; shoes\\r\\nShe bad, got an attitude\\r\\nAnd I&#x27;m bad, give a fuck &#x27;bout you\\r\\n[/INST]{\"tags\": [\"opium\", \"trap\", \"plugg\", \"rap\", \"rage\"]}</s>\n",
      "\n",
      "<s>[INST]<<SYS>>Return the tag of the given Lyrics as JSON<</SYS>>[Coach It by DaBoii]\\n[Intro]\\r\\n\\r\\n\\r\\n[Chorus]\\r\\nDon&#x27;t ask me if we on the beef, we fasho is\\r\\nGot too much on my mind I can&#x27;t get off, how I&#x27;ma focus?\\r\\nMy brother tired of forties in them knots he want the four nic&#x27;\\r\\nI feel like I been in the game too long now I can coach it\\r\\nDon&#x27;t ask me if we on the beef, we fasho is\\r\\nGot too much on my mind I can&#x27;t get off, how I&#x27;ma focus?\\r\\nMy brother tired of forties in them knots he want the four nic&#x27;\\r\\nI feel like I been in the game too long now I can coach it\\r\\n\\r\\n[Verse 1]\\r\\nI pull up to the function to the neck and leave with your bitch\\r\\nLike I had one up top bitch I was loaded when I wrote this\\r\\nBig body, everybody staring when I yoke it\\r\\nMy bitch swear that she Miss know-it-all but she don&#x27;t know shit\\r\\nI&#x27;m in the club sipping Wok, you niggas pouring liquor\\r\\nNiggas&#x27;ll hate you &#x27;cause they bitch be choosing, niggas more than bitter\\r\\nYou smoking Purple Punch in a Runtz baggie, what you rolling nigga?\\r\\nY&#x27;all paddling different directions, why you rolling wit&#x27; &#x27;em?\\r\\nNaw I ain&#x27;t passing you this here, I&#x27;m to the neck with this\\r\\nI can&#x27;t rock with them guns that ain&#x27;t all black, they think I&#x27;m prejudice\\r\\nOpps think we forgot about the beef but we just preppin&#x27; it\\r\\nAin&#x27;t gon&#x27; lie them crackers know the truth but have no evidence\\r\\nYou gotta watch yo&#x27; niggas they the ones that be the jealous-ist\\r\\nAnd bitch I got it all from juice to pills tell me your preference\\r\\nAnd I&#x27;m always shitting on my exes on some extra shit\\r\\nBullets spreading faster than Corona and you catching &#x27;em\\r\\n[/INST]{\"tags\": [\"rap\", \"hip-hop\", \"usa\", \"american\", \"bay area\"]}</s>\n",
      "\n",
      "<s>[INST]<<SYS>>Return the tag of the given Lyrics as JSON<</SYS>>[Joe the Lion (Remixed Version 1991) by David Bowie]\\n[Chorus]\\r\\nJoe the lion\\r\\nWent to the bar\\r\\nA couple of drinks on the house an&#x27; he said\\r\\n&quot;Tell you who you are if you nail me to my car&quot;\\r\\n\\r\\n[Bridge]\\r\\nBoy\\r\\nThanks for hesitating\\r\\nThis is the kiss off\\r\\n\\r\\n[Verse]\\r\\nBoy\\r\\nThanks for hesitating\\r\\nYou&#x27;ll never know the real story\\r\\nJust a couple of dreams\\r\\nYou get up and sleep\\r\\nYou can buy God\\r\\nIt&#x27;s Monday\\r\\nSlither down the greasy pipe\\r\\nSo far so good no one saw you\\r\\nHobble over any freeway\\r\\nYou will be like your dreams tonight\\r\\nYou get up and sleep\\r\\nYou get up and sleep\\r\\nJoe the lion\\r\\nMade of iron\\r\\n[/INST]{\"tags\": [\"glam rock\", \"rock\", \"classic rock\", \"80s\", \"alternative\"]}</s>\n",
      "\n",
      "<s>[INST]<<SYS>>Return the tag of the given Lyrics as JSON<</SYS>>[She Bad* by Destroy Lonely]\\n\\r\\n\\r\\nUh, I laid [?]\\r\\n[?]\\r\\nCan&#x27;t play with me, shawty know she bad, oh yeah\\r\\nCan&#x27;t hang with me, only if you...[/INST]{\"tags\": [\"opium\", \"trap\", \"plugg\", \"rap\", \"rage\"]}</s>\n",
      "\n",
      "<s>[INST]<<SYS>>Return the tag of the given Lyrics as JSON<</SYS>>[Mil Problemas by Daddy Yankee]\\n[Letra de &#x27;&#x27;Mil Problemas&#x27;&#x27;]\\r\\n\\r\\n[Estribillo]\\r\\nTengo mil problemas y como quiera voy a salir\\r\\nNo me hablen de perse, uno nace pa&#x27; morir\\r\\nMuchos están velándome, siguen amenazándome\\r\\n¿Cuál es el dilema? Tengo mil problemas\\r\\nPero como quiera voy a salir\\r\\n\\r\\n[Verso 1]\\r\\nYo tengo mil problemas pero nunca me he mudao&#x27;\\r\\nTodos dicen que estoy fácil pero ninguno me ha dao&#x27;\\r\\nMe llaman privado y no cuelgan hasta que enganche\\r\\nNo me quitan el sueño y siempre estoy cuadrando en planche\\r\\n\\r\\nLa gata en Isla Verde, los hoteles y el casino\\r\\nMe roncan por oasis con la vibra de Al Pacino\\r\\nPero me tiene sin cojones los que pa&#x27; mí este impuesto\\r\\nComo mismo me levanto así mismo yo me acuesto\\r\\n\\r\\nSi se vieran como hablan, polvo de ganso\\r\\nMe visto para la calle y con el miedo no transo\\r\\nPregúntale a tu satélite, que hasta las siete estuve\\r\\nDe todos los jodedores soy el ultimo que sube\\r\\n\\r\\n[Estribillo]\\r\\nTengo mil problemas y como quiera voy a salir\\r\\n(Los invito, pónganse para mi)\\r\\nNo me hablen de perse, uno nace pa&#x27; morir\\r\\n(¿Dicen por ahí qué?)\\r\\n[/INST]{\"tags\": [\"reggaeton\", \"latin\", \"hip-hop\", \"spanish\"]}</s>\n",
      "\n",
      "<s>[INST]<<SYS>>Return the tag of the given Lyrics as JSON<</SYS>>[The Mysteries by David Bowie]\\n[/INST]{\"tags\": [\"instrumental\", \"ambient\", \"experimental\", \"90s\"]}</s>\n",
      "\n",
      "<s>[INST]<<SYS>>Return the tag of the given Lyrics as JSON<</SYS>>[Threepenny Pierrot by David Bowie]\\nThreepenny Pierrot - we love you\\r\\nThreepenny Pierrot - loves us too\\r\\nPockets of gladness, gay time eyes\\r\\nComical hero, Threepenny Pierrot\\r\\n\\r\\nHappy little feet that dance all day\\r\\nLonely little heart with lots to say\\r\\nStepping footprints on your mind\\r\\nOffering thoughts of Columbine\\r\\n\\r\\nBang the drum and blow the bugle call\\r\\nPierrot takes the stage to play for all\\r\\nFor here&#x27;s a life his fortune rules\\r\\nForsaken by his Columbine\\r\\n\\r\\nThreepenny Pierrot - we love you\\r\\nThreepenny Pierrot - loves us too\\r\\nPockets of gladness, gay time eyes\\r\\nComical hero, Threepenny Pierrot\\r\\n\\r\\nTo tap his feet to greet dear Harlequin\\r\\nThe hearts of folks so keenly hard to win\\r\\nA patchwork frame of tears and wine\\r\\nThe nectar for cruel Columbine\\r\\n\\r\\nThe part of three and leaves the stage forlorn\\r\\nPuppets cold, their faces sad and drawn\\r\\nRelive each trial of rise and fall\\r\\nThe love which lacks between us all\\r\\n[/INST]{\"tags\": [\"glam rock\", \"rock\", \"classic rock\", \"80s\", \"alternative\"]}</s>\n",
      "\n",
      "<s>[INST]<<SYS>>Return the tag of the given Lyrics as JSON<</SYS>>[Love Missile F1-11 by David Bowie]\\nUS bombs crusin&#x27; overhead\\r\\nThere goes my love rocket red\\r\\n\\r\\nShoot it up\\r\\n\\r\\nBlaster bomb bomb bomb ahead\\r\\nMulti millions still unfed\\r\\nA mondo teeno givin&#x27; head\\r\\n\\r\\nShoot it up\\r\\n\\r\\nHold me shake me, I&#x27;m all shook up\\r\\nPsycho maniac, interbred\\r\\nShoot it up\\r\\nShoot it up hu\\r\\nShoot it up hu\\r\\n\\r\\nTeenage crime now fashion&#x27;s dead\\r\\nThere goes my love rocket red\\r\\n\\r\\nShoot it up\\r\\nShoot it up\\r\\nShoot it up\\r\\nShoot it up[/INST]{\"tags\": [\"glam rock\", \"rock\", \"classic rock\", \"80s\", \"alternative\"]}</s>\n",
      "\n",
      "<s>[INST]<<SYS>>Return the tag of the given Lyrics as JSON<</SYS>>[Back & Forth by Destroy Lonely]\\nBack and forth, stack to stack, gotta rock another show\\r\\nEvery night I&#x27;m with your bitch, I&#x27;m fuckin&#x27; on your hoe\\r\\n\\r\\n...[/INST]{\"tags\": [\"bts\", \"kpop\", \"emo hip hop\"]}</s>\n",
      "\n",
      "<s>[INST]<<SYS>>Return the tag of the given Lyrics as JSON<</SYS>>[Where Were You Baby? by Don McLean]\\nWhere Were You Baby? - (Josh White)\\r\\nAs recorded by Donmclean\\r\\n\\r\\nI looked through every barroom\\r\\nAnd I searched from coast to coast\\r\\nYou were scarce as low-cost housing\\r\\nBaby when I needed you most\\r\\n\\r\\nAnd where were you baby, when my heart went out?\\r\\nYou left me ba___by, in all this darkness and doubt\\r\\n\\r\\nNow I peeked through fancy boudoirs\\r\\nAnd I peeked through window grates\\r\\nI only saw Republicans, romancing Southern states\\r\\n\\r\\nAnd where were you baby, when my heart went out?\\r\\nYou left me ba___by, in all this darkness and doubt\\r\\n\\r\\nNow I tried to replace you with a streetwalker named Desire\\r\\nBut prices up so high, hell I couldn&#x27;t afford to try her\\r\\nIt takes you my baby, baby, baby - to put my body out\\r\\nYou left me baby, in all___ this darkness and doubt\\r\\n\\r\\nBut tonight I think I&#x27;m gonna take some good advice\\r\\nI&#x27;m gonna look around and find somebody that&#x27;s a really nice\\r\\nWell perhaps a banker&#x27;s daughter and if her Papa&#x27;s a cuss\\r\\nWell I hope to do to her what her Papa does to us\\r\\n[/INST]{\"tags\": [\"folk\", \"classic rock\", \"singer-songwriter\", \"70s\", \"rock\"]}</s>\n",
      "\n"
     ]
    }
   ],
   "source": [
    "import json\n",
    "import os\n",
    "from os import listdir, walk\n",
    "from os.path import isfile, join\n",
    "\n",
    "data_dir = './data'\n",
    "output_file = 'training_data.txt'\n",
    "\n",
    "def escape_lines(text):\n",
    "    return text.replace(\"\\n\", \"\\\\n\").replace(\"\\r\",\"\\\\r\").replace(\"\\n\", \"\\\\t\")\n",
    "\n",
    "def format_prompt(title, artist, lyrics, tags):\n",
    "    result = json.dumps({'tags': tags})\n",
    "    return f\"<s>[INST]<<SYS>>Return the tag of the given Lyrics as JSON<</SYS>>[{title} by {artist}]\\n{lyrics}[/INST]{result}</s>\"\n",
    "\n",
    "def collect_json_files(dir):\n",
    "    for root, dirs, files in os.walk(dir, topdown=False):\n",
    "        for file in files:\n",
    "            if file.endswith(\".json\"):\n",
    "                yield join(root, file)\n",
    "\n",
    "\n",
    "with open(output_file, 'wt', encoding='utf8') as outfile:\n",
    "    for file in collect_json_files(data_dir):\n",
    "        songs = json.load(open(file))\n",
    "        for song in songs:\n",
    "            prompt = format_prompt(song['Title'], song['PrimaryArtistName'], song['Lyrics'], song['LastFMTags'])\n",
    "            outfile.write(escape_lines(prompt)+\"\\n\")\n",
    "\n",
    "with open(output_file, 'rt',encoding='utf8') as read:\n",
    "    for i in range(10):\n",
    "        print(read.readline())"
   ]
  },
  {
   "cell_type": "code",
   "execution_count": 3,
   "metadata": {},
   "outputs": [],
   "source": [
    "from sklearn.model_selection import train_test_split\n",
    "\n",
    "def write_lines(file, lines):\n",
    "    with open(file, 'wt', encoding='utf8') as out:\n",
    "        out.writelines(lines)\n",
    "\n",
    "with open(output_file, 'rt', encoding='utf8') as read:\n",
    "    lines = read.readlines()\n",
    "    train, test = train_test_split(lines, test_size=0.2, random_state=42)\n",
    "    write_lines('train_data.txt', train)\n",
    "    write_lines('test_data.txt', test)\n",
    "\n"
   ]
  }
 ],
 "metadata": {
  "kernelspec": {
   "display_name": "ml",
   "language": "python",
   "name": "python3"
  },
  "language_info": {
   "codemirror_mode": {
    "name": "ipython",
    "version": 3
   },
   "file_extension": ".py",
   "mimetype": "text/x-python",
   "name": "python",
   "nbconvert_exporter": "python",
   "pygments_lexer": "ipython3",
   "version": "3.12.0"
  }
 },
 "nbformat": 4,
 "nbformat_minor": 2
}
